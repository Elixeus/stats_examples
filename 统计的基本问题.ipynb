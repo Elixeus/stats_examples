{
 "cells": [
  {
   "cell_type": "markdown",
   "metadata": {},
   "source": [
    "# 统计的基本问题\n",
    "- 参数估计 (paramter estimation)\n",
    "  - 点估计 (point estimation)\n",
    "    - 矩估计 (method of moments)\n",
    "    - 极大似然估计 (maximum likelihood)\n",
    "    - 最小二乘法 (ordinary least squared)\n",
    "    - 贝叶斯法 (Baysian)\n",
    "  - 区间估计 (interval estimation)\n",
    "- 假设检验 (hypothesis testing)\n",
    "  - 参数检验 (parametric testing)\n",
    "    - 单正态分布下的假设检验\n",
    "    - 双正态分布下的假设检验\n",
    "  - 非参数假设检验 (non-parametric testing)\n",
    "    - 单样本\n",
    "      - 卡方检验 ($\\chi squared test$)\n",
    "      - 二项分布检验 (binomial distribution test)\n",
    "      - one sample K-S test\n",
    "      - Wilcoxon sign test\n",
    "      - 游程检验\n",
    "    - 两总体比较\n",
    "      - 独立样本\n",
    "        - Mann-Whitney U test\n",
    "        - K-S test\n",
    "        - Wald-Wolfowitz test\n",
    "        - Moses极端反应检验\n",
    "      - 相关样本\n",
    "        - sign test\n",
    "        - McNemar test\n",
    "        - Wilcoxon sign rank test\n",
    "        - 边际同质性检验\n",
    "    - 多总体比较\n",
    "      - 独立样本\n",
    "        - 中位数检验\n",
    "        - K-W单因素ANOVA检验\n",
    "        - 有序备择检验（J-T检验）\n",
    "      - 相关样本\n",
    "        - Friedman秩和检验\n",
    "        - Kendall协同系数检验\n",
    "        - Cochran Q test\n",
    "- 方差分析 (analysis of variance, ANOVA)\n",
    "- 线性回归 (linear regression)"
   ]
  },
  {
   "cell_type": "markdown",
   "metadata": {},
   "source": [
    "# 估计量的判断标准\n",
    "- 无偏性 (unbiasness)\n",
    "- 有效性 (effectiveness)\n",
    "- 相合性 (consistency)"
   ]
  },
  {
   "cell_type": "markdown",
   "metadata": {},
   "source": [
    "# 点估计\n",
    "## 矩估计法 (method of moments)\n",
    "设总体$X \\sim F(x; \\theta_1, \\theta_2, ... \\theta_m)$, 参数$\\theta_1$, $\\theta_2$ ... $\\theta_m$未知，且总体的m阶矩存在: $\\mu_k(\\theta_1, \\theta_2 ... \\theta_n) = E(X^k), (k = 1,2,...m)$\n",
    "\n",
    "由辛钦大数定律，有\n",
    "$$A_k = \\frac{1}{n}\\sum_{i=1}^nX_i^k \\to^P \\mu_k(\\theta_1, \\theta_2 ... \\theta_m), n \\to +\\infty$$\n",
    "因此, 当n较大时有\n",
    "$$A_k = \\frac{1}{n}\\sum_{i=1}^nX_i^k \\approx \\mu_k(\\theta_1, \\theta_2 ... \\theta_m) (k = 1,2 ... m)$$\n",
    "令\n",
    "$$\\mu_1(\\theta_1, \\theta_2 ... \\theta_n) = A_1$$\n",
    "$$\\mu_2(\\theta_2, \\theta_2 ... \\theta_n) = A_2$$\n",
    "$$...$$\n",
    "$$\\mu_n(\\theta_2, \\theta_2 ... \\theta_n) = A_n$$\n",
    "其解$\\hat{\\theta_k}(X_1, X_2 ... X_n)称为\\theta_k的矩估计量$\n",
    "\n",
    "注：若有一个参数，因无偏性等原因，建议用一阶矩\n",
    "\n",
    "**又，不论总体服从什么分布，若其期望和方差均存在，则$\\mu$和$\\sigma^2$的矩估计量分别为：**\n",
    "$$\\hat{\\mu} = \\bar{X} = \\frac{1}{n}\\sum_{i=1}^nX_i$$\n",
    "$$\\hat{\\sigma^2} = \\frac{1}{n}\\sum_{i=1}^{n}(X_i - \\bar{X})^2 \\triangleq \\tilde{S}^2$$"
   ]
  },
  {
   "cell_type": "markdown",
   "metadata": {},
   "source": [
    "例 设 $X_1$, $X_2$ ... $X_n$ 是来自总体 $X \\sim P(\\lambda) (\\lambda > 0)$的一个样本，求未知参数$\\lambda$\n",
    "\n",
    "解： 因为总体 $X \\sim P(\\lambda)$ 所以有 E(X) = $\\lambda$，由矩估计原理，用样本一阶矩，即样本均值$\\bar{X}$代替总体样本均值$E(X)$，得到\n",
    "$$\\bar{X} = \\lambda -> \\hat{\\lambda} = \\bar{X}$$"
   ]
  },
  {
   "cell_type": "code",
   "execution_count": 1,
   "metadata": {
    "ExecuteTime": {
     "end_time": "2020-07-24T02:23:28.386015Z",
     "start_time": "2020-07-24T02:23:28.355212Z"
    }
   },
   "outputs": [
    {
     "name": "stdout",
     "output_type": "stream",
     "text": [
      "lambda: 5.00\n",
      "lambda_hat: 4.90\n"
     ]
    }
   ],
   "source": [
    "# for example\n",
    "import numpy as np\n",
    "np.random.seed(100)\n",
    "lambda_ = 5.0\n",
    "size = 30\n",
    "X = np.random.poisson(lam=lambda_, size=size)\n",
    "x_bar = X.mean()\n",
    "lambda_hat = x_bar\n",
    "print('lambda: {:.02f}\\nlambda_hat: {:.2f}'.format(lambda_, lambda_hat))\n",
    "# lambda of the population is 5.0, point estimation of the population lambda according to the sample mean is 4.9"
   ]
  },
  {
   "cell_type": "markdown",
   "metadata": {},
   "source": [
    "例 设$X_1$, $X_2$ ... $X_n$是来自总体$X \\sim N(\\mu, \\sigma^2)$的一个样本，求未知参数$\\mu$, $\\sigma^2$的矩估计\n",
    "\n",
    "解 由公式得 $$\\hat{\\mu} = \\bar{X}$$\n",
    "$$\\hat{\\sigma^2} = \\frac{1}{n}(X_i - \\bar{X}^2) = \\tilde{X}^2$$"
   ]
  },
  {
   "cell_type": "code",
   "execution_count": 3,
   "metadata": {
    "ExecuteTime": {
     "end_time": "2020-07-24T02:23:53.415457Z",
     "start_time": "2020-07-24T02:23:53.395742Z"
    },
    "scrolled": true
   },
   "outputs": [
    {
     "name": "stdout",
     "output_type": "stream",
     "text": [
      "mu: 6.00, sigma_2: 25.00\n",
      "mu_hat: 6.02, sigma_squared_hat: 27.69\n"
     ]
    }
   ],
   "source": [
    "np.random.seed(100)\n",
    "mu = 6\n",
    "sigma = 5\n",
    "size = 400\n",
    "\n",
    "def sigma_squared_hat(X):\n",
    "    return 1/X.size*np.sum(np.power((X - X.mean()), 2))\n",
    "\n",
    "X = np.random.normal(mu, sigma, size)\n",
    "mu_hat = X.mean()\n",
    "sigma_squared_hat = sigma_squared_hat(X)\n",
    "print('mu: {:.02f}, sigma_2: {:0.2f}\\nmu_hat: {:.02f}, sigma_squared_hat: {:.02f}'.format(mu, sigma**2,\n",
    "                                                                                          mu_hat, sigma_squared_hat))"
   ]
  },
  {
   "cell_type": "markdown",
   "metadata": {},
   "source": [
    "## 极大似然估计\n",
    "定义：设$X_1$, $X_2$ ... $X_n$是来自总体$X$的样本，$x_1$, $x_2$ ... $x_n$是样本观测值, $L(\\theta)(\\theta \\in \\Theta)$是似然函数，若存在统计量\n",
    "$$\\hat{\\theta} = \\hat{\\theta}(x_1, x_2 ... x_n)$$\n",
    "使得$L(\\hat{\\theta}) = sup_{\\theta \\in \\Theta} L(\\theta)$，则称$\\hat{\\theta} = \\hat{\\theta}(X_1, X_2 ... X_n)$为$\\theta$的极大似然估计量，简记为MLE\n",
    "\n",
    "过程\n",
    "\n",
    "1. 根据总体分布的表达式，写出似然函数(likelihood function): $L(\\theta_1, \\theta_2 ... \\theta_m) (\\theta = (\\theta_1, \\theta_2 ... \\theta_m) \\in \\Theta)$\n",
    "2. 因为$L(\\theta_1, \\theta_2 ... \\theta_m)$有相同的极值点，称$ln L(\\theta_1, \\theta_2 ... \\theta_m)$为对数似然函数，记为$l(\\theta_1, \\theta_2 ... \\theta_m)$，求出$l(\\theta_1, \\theta_2 ... \\theta_m)$\n",
    "3. 求出$l(\\theta_1, \\theta_2 ... \\theta_m)的极大值点，\\hat{\\theta_1}, \\hat{\\theta_2} ... \\hat{\\theta_m}$ 即为$\\theta_1$, $\\theta_2$ ...$\\theta_m$的MLE\n",
    "\n",
    "若$l(\\theta_1, \\theta_2 ... \\theta_m)$关于 $\\theta_i(i=1,2 ... m)$可导，则称下列方程组为对数似然方程组\n",
    "$$\\frac{\\partial l}{\\partial \\theta_1} = 0$$\n",
    "$$\\frac{\\partial l}{\\partial \\theta_2} = 0$$\n",
    "$$...$$\n",
    "$$\\frac{\\partial l}{\\partial \\theta_n} = 0$$\n"
   ]
  },
  {
   "cell_type": "markdown",
   "metadata": {},
   "source": [
    "例 设$X_1$, $X_2$ ... $X_n$是来自总体$X \\sim B(1, p)$的样本， $x_1, x_2 ... x_n$是样本观测值，试求未知参数p的极大似然估计\n",
    "\n",
    "解 此时的对数自然函数\n",
    "$$l(p) = ln L(p) = n\\bar{X}lnp + n(1-\\bar{X})ln(1-p)$$\n",
    "$$\\frac{d(l(p))}{dp} = \\frac{n\\bar{X}}{p} + \\frac{n(1-\\bar{X})}{1-p} = 0$$\n",
    "$$\\hat{p} = \\bar{X}$$"
   ]
  },
  {
   "cell_type": "code",
   "execution_count": 6,
   "metadata": {
    "ExecuteTime": {
     "end_time": "2020-07-24T02:32:28.599819Z",
     "start_time": "2020-07-24T02:32:28.590227Z"
    }
   },
   "outputs": [
    {
     "name": "stdout",
     "output_type": "stream",
     "text": [
      "p: 0.75\n",
      "p_hat: 0.72\n"
     ]
    }
   ],
   "source": [
    "np.random.seed(100)\n",
    "n = 1\n",
    "p = 0.75\n",
    "size = 50\n",
    "X = np.random.binomial(n, p, size)\n",
    "p_hat = X.mean()\n",
    "print('p: {:.2f}\\np_hat: {:.2f}'.format(p, p_hat))"
   ]
  },
  {
   "cell_type": "markdown",
   "metadata": {},
   "source": [
    "# 区间估计\n",
    "定义：设总体$X \\sim F(x; \\theta)$, $\\theta$是待估计参数，若对给定的$\\alpha$ (0< $\\alpha$ <1)，存在两个统计量，$\\underline{\\theta} = \\underline{\\theta}(X_1, X_2 ... X_n)$, $\\bar{\\theta}(\\theta(X_1, X_2 ... X_n))$，使得$P\\{\\underline{\\theta} < p < \\bar{\\theta}\\} = 1 - \\alpha, \\theta \\in \\Theta$，则称随机区间$(\\underline{\\theta}, \\bar{\\theta})$为$\\theta$的置信度(confidence level)为$1-\\alpha$的置信区间(confidence interval)。$\\underline{\\theta}, \\bar{\\theta}$分别称为置信下限和置信上限，$1-\\alpha$为置信度或置信水平\n",
    "\n",
    "说明：\n",
    "1. 置信区间的区间长度$\\bar{\\theta} - \\underline{\\theta}$反映了估计的精度。$\\bar{\\theta} - \\underline{\\theta}$越小，估计精度越高\n",
    "2. $\\alpha$反映了估计的可信度，$\\alpha$越小，$1-\\alpha$越大，估计的可信度越高；但通常会导致$\\bar{\\theta} - \\underline{\\theta}$增大，从而导致估计的精度降低\n",
    "3. $\\alpha$给定后，置信区间的选取不唯一，通常选取$\\bar{\\theta} - \\underline{\\theta}$的最小区间\n",
    "\n",
    "一般过程\n",
    "1. 构造样本的一个函数（枢轴变量），其含有待估参数$\\theta$，不含其他未知参数，其分布已知，且分布不依赖于待估计参数，如\n",
    "$$\\bar{X} \\sim N(\\mu, \\frac{1}{n}) \\to g(X_1, X_2 ... X_n) = \\frac{\\bar{X} - \\mu}{\\frac{1}{\\sqrt{n}}} \\sim N(0, 1)$$\n",
    "2. 对给定的置信度$1-\\alpha$，确定枢轴变量的分布的两个分位点$X_{\\frac{\\alpha}{2}}, X_{1 - \\frac{\\alpha}{2}}$，使得$P\\{X_{\\frac{\\alpha}{2}} < g(X_1, X_2 ... X_n) < X_{1 - \\frac{\\alpha}{2}}\\} = 1 - \\alpha$\n",
    "3. 解$X_{\\frac{\\alpha}{2}} < g(X_1, X_2 ... X_n) < X_{1 - \\frac{\\alpha}{2}}$得置信区间"
   ]
  },
  {
   "cell_type": "markdown",
   "metadata": {},
   "source": [
    "例 设$X_1, X_2 ... X_n$是来自总体$X \\sim N(\\mu, \\sigma^2)$的样本，其中参数$\\sigma^2$已知，$\\mu$未知，求$\\mu$的置信度为$1-\\alpha$的置信区间\n",
    "解 $\\mu$的MLE是$\\bar{X}$\n",
    "$$\\bar{X} \\sim N(\\mu, \\frac{\\sigma^2}{n})$$\n",
    "$$\\frac{\\bar{X} - \\mu}{\\frac{\\sigma}{\\sqrt{n}}} \\sim N(0, 1)$$\n",
    "$$P\\{\\bar{X} - \\frac{\\sigma}{\\sqrt{n}}u_{1-\\frac{\\alpha}{2}} < \\mu < \\bar{X} + \\frac{\\sigma}{\\sqrt{n}}u_{1-\\frac{\\alpha}{2}}\\} = 1 - \\alpha$$\n",
    "得$\\mu$的置信度为$1 - \\alpha$的置信区间为$(\\bar{X} - \\frac{\\sigma}{\\sqrt{n}}u_{1-\\frac{\\alpha}{2}}, \\bar{X} + \\frac{\\sigma}{\\sqrt{n}}u_{1-\\frac{\\alpha}{2}})$"
   ]
  },
  {
   "cell_type": "code",
   "execution_count": 50,
   "metadata": {
    "ExecuteTime": {
     "end_time": "2020-07-24T04:52:58.219189Z",
     "start_time": "2020-07-24T04:52:58.205997Z"
    }
   },
   "outputs": [
    {
     "data": {
      "text/plain": [
       "(8.199026486211583, 10.55098326765965)"
      ]
     },
     "execution_count": 50,
     "metadata": {},
     "output_type": "execute_result"
    }
   ],
   "source": [
    "from scipy.stats import norm\n",
    "np.random.seed(100)\n",
    "mu = 10\n",
    "sigma = 6\n",
    "size = 100\n",
    "alpha = 0.05\n",
    "X = np.random.normal(mu, sigma, size)\n",
    "\n",
    "# ppf is the quantile function in scipy.stats\n",
    "def intervals(X, sigma, alpha):\n",
    "    f_norm = norm()\n",
    "    u_high = f_norm.ppf(1 - alpha/2)\n",
    "    return (X.mean() - sigma / np.sqrt(X.size)*u_high,\n",
    "            X.mean() + sigma / np.sqrt(X.size)*u_high)\n",
    "\n",
    "intervals(X, sigma, alpha)\n"
   ]
  },
  {
   "cell_type": "code",
   "execution_count": 62,
   "metadata": {
    "ExecuteTime": {
     "end_time": "2020-07-24T05:15:06.926621Z",
     "start_time": "2020-07-24T05:15:06.904428Z"
    }
   },
   "outputs": [
    {
     "data": {
      "text/plain": [
       "(8.21466901526255, 10.535340738608683)"
      ]
     },
     "execution_count": 62,
     "metadata": {},
     "output_type": "execute_result"
    }
   ],
   "source": [
    "from scipy.stats import t\n",
    "np.random.seed(100)\n",
    "mu = 10\n",
    "sigma = 6\n",
    "size = 100\n",
    "alpha = 0.05\n",
    "X = np.random.normal(mu, sigma, size)\n",
    "def intervals(X, alpha):\n",
    "    f_t = t(X.size - 1)\n",
    "    t_high = f_t.ppf(1 - alpha/2)\n",
    "    # for calculation of S, can use X.var(ddof=1) as an alternative\n",
    "    # namely np.sqrt(X.var(ddof=1)) = np.sqrt((sum((X - X.mean())**2)) * (1/(X.size - 1)))\n",
    "    return (X.mean() - np.sqrt(X.var(ddof=1)) / np.sqrt(X.size) * f_t.ppf(1-alpha/2), X.mean() + np.sqrt(X.var(ddof=1)) / np.sqrt(X.size) * f_t.ppf(1-alpha/2))\n",
    "intervals(X, alpha)"
   ]
  },
  {
   "cell_type": "code",
   "execution_count": null,
   "metadata": {},
   "outputs": [],
   "source": []
  }
 ],
 "metadata": {
  "kernelspec": {
   "display_name": "Python 3",
   "language": "python",
   "name": "python3"
  },
  "language_info": {
   "codemirror_mode": {
    "name": "ipython",
    "version": 3
   },
   "file_extension": ".py",
   "mimetype": "text/x-python",
   "name": "python",
   "nbconvert_exporter": "python",
   "pygments_lexer": "ipython3",
   "version": "3.7.3"
  },
  "toc": {
   "base_numbering": 1,
   "nav_menu": {},
   "number_sections": true,
   "sideBar": true,
   "skip_h1_title": false,
   "title_cell": "Table of Contents",
   "title_sidebar": "Contents",
   "toc_cell": false,
   "toc_position": {},
   "toc_section_display": true,
   "toc_window_display": false
  },
  "varInspector": {
   "cols": {
    "lenName": 16,
    "lenType": 16,
    "lenVar": 40
   },
   "kernels_config": {
    "python": {
     "delete_cmd_postfix": "",
     "delete_cmd_prefix": "del ",
     "library": "var_list.py",
     "varRefreshCmd": "print(var_dic_list())"
    },
    "r": {
     "delete_cmd_postfix": ") ",
     "delete_cmd_prefix": "rm(",
     "library": "var_list.r",
     "varRefreshCmd": "cat(var_dic_list()) "
    }
   },
   "types_to_exclude": [
    "module",
    "function",
    "builtin_function_or_method",
    "instance",
    "_Feature"
   ],
   "window_display": false
  }
 },
 "nbformat": 4,
 "nbformat_minor": 4
}
