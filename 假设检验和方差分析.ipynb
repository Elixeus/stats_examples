{
 "cells": [
  {
   "cell_type": "markdown",
   "metadata": {},
   "source": [
    "- 假设检验 (hypothesis testing)\n",
    "  - 参数检验 (parametric testing)\n",
    "    - 单正态分布下的假设检验\n",
    "    - 双正态分布下的假设检验\n",
    "  - 非参数假设检验 (non-parametric testing)\n",
    "    - 单样本\n",
    "      - 卡方检验 ($\\chi$ squared  test)\n",
    "      - 二项分布检验 (binomial distribution test)\n",
    "      - one sample K-S test\n",
    "      - Wilcoxon sign test\n",
    "      - 游程检验\n",
    "    - 两总体比较\n",
    "      - 独立样本\n",
    "        - Mann-Whitney U test\n",
    "        - K-S test\n",
    "        - Wald-Wolfowitz test\n",
    "        - Moses极端反应检验\n",
    "      - 相关样本\n",
    "        - sign test\n",
    "        - McNemar test\n",
    "        - Wilcoxon sign rank test\n",
    "        - 边际同质性检验\n",
    "    - 多总体比较\n",
    "      - 独立样本\n",
    "        - 中位数检验\n",
    "        - K-W单因素ANOVA检验\n",
    "        - 有序备择检验（J-T检验）\n",
    "      - 相关样本\n",
    "        - Friedman秩和检验\n",
    "        - Kendall协同系数检验\n",
    "        - Cochran Q test\n",
    "- 方差分析 (analysis of variance, ANOVA)"
   ]
  },
  {
   "cell_type": "markdown",
   "metadata": {},
   "source": [
    "# 假设检验\n",
    "对总体提出假设，根据采样来对假设进行检验，结论只有接受或拒绝两种情况\n",
    "\n",
    "假设的提法：$H_0$原假设(null hypothesis)，$H_1$备择假设(对立假设)(alternative hypothesis)\n",
    "\n",
    "例：$H_0$: $p \\geq 5\\%$, $H_1$: $p < 5\\%$\n",
    "\n",
    "$H_0$: $\\mu=\\mu_0$, $H_1$: $\\mu \\neq \\mu_0$"
   ]
  },
  {
   "cell_type": "markdown",
   "metadata": {},
   "source": [
    "## 假设检验\n",
    "1. 有明确的假设H\n",
    "2. 给定一个所能容忍的犯这类错误的上限\n",
    "3. 在此上限下，判断证据对拒绝H是否显著\n",
    "4. 只要证据对拒绝H不显著，即接受H\n",
    "\n",
    "## 假设错误和风险\n",
    "真实情况 |$H_0$为真|$H_1$为真\n",
    "-------|---------|-------\n",
    "决策|接受$H_0$|拒绝$H_1$\n",
    "决策|拒绝$H_0$|接受$H_1$\n",
    "\n",
    "若拒绝原假设，可能会弃真，犯第一类错误(Type I error)\n",
    "\n",
    "若接受原假设，可能会取伪，犯第二类错误(Type II error)\n",
    "\n",
    "I类风险：犯第一类错误的概率\n",
    "\n",
    "II类风险：犯第二类错误的概率\n",
    "\n",
    "检验原则一：保护$H_0$\n",
    "\n",
    "检验原则二：最优检验，控制第二类风险小于$\\alpha$的前提下，是检验问题的第二类风险达到最小\n",
    "\n",
    "步骤：\n",
    "1. 假设$H_0$为真，构造一个统计量\n",
    "2. 根据此统计量来确定一个事件（等价于给出$H_0$的否定域），要求$H_0$为真时，该事件是小概率事件\n",
    "3. 进行实验，利用采样数据，判断小概率事件是否发生，若发生则拒绝$H_0$\n"
   ]
  },
  {
   "cell_type": "markdown",
   "metadata": {},
   "source": [
    "# 参数检验\n",
    "## 单正态总体"
   ]
  },
  {
   "cell_type": "markdown",
   "metadata": {},
   "source": [
    "例1. (two sided) 若$\\mu_0 = 2$, size = 100, $\\bar{X} = 1.978$, $\\sigma = 0.2$, $\\alpha = 0.05$。问$\\mu$是否等于$\\mu_0$?\n",
    "\n",
    "解 $H_0$: $\\mu = \\mu_0$, $H_1$: $\\mu \\neq \\mu_0$\n",
    "\n",
    "因为$\\bar{X}$的取值在$\\mu$附近波动，故$|\\bar{X} - \\mu_0| \\geq C$时拒绝$H_0$，当$|\\bar{X} - \\mu_0| < C$时，接受$H_0$\n",
    "\n",
    "拒绝$H_0$时的事件$|\\frac{\\bar{X} - \\mu_0}{\\frac{\\sigma}{\\sqrt{n}}}| \\geq \\mu_{1 - \\frac{\\alpha}{2}}$ 称为拒绝域，也可转化为求\n",
    "$|\\frac{\\bar{X} - \\mu_0}{\\frac{\\sigma}{\\sqrt{n}}}|$对应的概率与$\\alpha$的比较"
   ]
  },
  {
   "cell_type": "code",
   "execution_count": 1,
   "metadata": {
    "ExecuteTime": {
     "end_time": "2020-07-27T06:20:44.723902Z",
     "start_time": "2020-07-27T06:20:44.037022Z"
    }
   },
   "outputs": [
    {
     "name": "stdout",
     "output_type": "stream",
     "text": [
      "threshold is: 1.10\n",
      "threshold >= mu_975: False\n",
      "p_value: 0.29\n",
      "p_value < alpha: False\n",
      "therefore, do not reject H0\n"
     ]
    }
   ],
   "source": [
    "import numpy as np\n",
    "from scipy.stats import norm\n",
    "\n",
    "f_norm = norm()\n",
    "alpha = 0.05\n",
    "x_bar = 1.978\n",
    "sigma = 0.2\n",
    "mu_0 = 2\n",
    "n = 100\n",
    "mu_975 = norm.ppf(0.975)\n",
    "\n",
    "threshold = np.abs((x_bar - mu_0)/(sigma/np.sqrt(n)))\n",
    "print('threshold is: {:.2f}'.format(threshold))\n",
    "print('threshold >= mu_975: {}'.format(threshold >= mu_975))\n",
    "\n",
    "p_value = 2 * (1 - norm.cdf((threshold + 1) / 2))\n",
    "print('p_value: {:.2f}'.format(p_value))\n",
    "print('p_value < alpha: {}'.format(p_value < alpha))\n",
    "\n",
    "print('therefore, do not reject H0')"
   ]
  },
  {
   "cell_type": "markdown",
   "metadata": {},
   "source": [
    "例2. (one sided) 若$X \\sim \\mathcal{N}(40, 2^2)$, n=25, $\\bar{x} = 41.25$，$\\sigma=2$, $\\alpha=0.05$。问$\\mu > \\mu_0$?\n",
    "\n",
    "解： 设$H_0$: $\\mu \\leq \\mu_0 = 40$, $H_1$: $\\mu > \\mu_0$\n",
    "\n",
    "分析： 若$H_0$成立，则$\\bar{X} - \\mu_0$偏小与0\n",
    "\n",
    "当$\\bar{x} - \\mu_0 > c$时，拒绝$H_0$, $\\bar{x} - \\mu_0 \\leq$时接受$H_0$\n",
    "\n",
    "因为 $\\mu \\leq \\mu_0$， $\\mu_0 - \\mu \\geq 0$\n",
    "\n",
    "所以 $$P\\{\\frac{\\bar{X} - \\mu_0}{\\frac{\\sigma}{\\sqrt{n}}} > \\frac{C}{\\frac{\\sigma}{\\sqrt{n}}}| \\mu \\leq \\mu_0 \\} \\leq P\\{\\frac{\\bar{X} - \\mu}{\\frac{\\sigma}{\\sqrt{n}}} > \\frac{C}{\\frac{\\sigma}{\\sqrt{n}}}| \\mu \\leq \\mu_0 \\} = \\alpha$$\n",
    "\n",
    "$$\\frac{\\bar{X} - \\mu_0}{\\frac{\\sigma}{\\sqrt(n)}} \\geq \\mu_{1-\\alpha}$$"
   ]
  },
  {
   "cell_type": "code",
   "execution_count": 3,
   "metadata": {
    "ExecuteTime": {
     "end_time": "2020-07-27T06:20:44.760228Z",
     "start_time": "2020-07-27T06:20:44.745489Z"
    }
   },
   "outputs": [
    {
     "name": "stdout",
     "output_type": "stream",
     "text": [
      "threshold is: 3.12\n",
      "threshold >= mu_95: True\n",
      "p_value: 0.00\n",
      "p_value < alpha: True\n",
      "therefore, reject H0\n"
     ]
    }
   ],
   "source": [
    "f_norm = norm()\n",
    "alpha = 0.05\n",
    "x_bar = 41.25\n",
    "sigma = 2\n",
    "mu_0 = 40\n",
    "n = 25\n",
    "mu_95 = norm.ppf(1-alpha)\n",
    "\n",
    "threshold = (x_bar - mu_0)/(sigma/np.sqrt(n))\n",
    "print('threshold is: {:.2f}'.format(threshold))\n",
    "print('threshold >= mu_95: {}'.format(threshold >= mu_95))\n",
    "\n",
    "p_value = 1 - norm.cdf(threshold)\n",
    "print('p_value: {:.2f}'.format(p_value))\n",
    "print('p_value < alpha: {}'.format(p_value < alpha))\n",
    "\n",
    "print('therefore, reject H0')"
   ]
  },
  {
   "cell_type": "markdown",
   "metadata": {},
   "source": [
    "### 均值检验（方差已知）\n",
    "总体$X \\sim \\mathcal{N}(\\mu, \\sigma^2)$，$\\frac{\\bar{X} - \\mu}{\\frac{\\sigma}{\\sqrt{n}}} \\sim \\mathcal{N}(0, 1)$\n",
    "1. $H_0$: $\\mu = \\mu_0$， $H_1$: $\\mu \\neq \\mu_0$，拒绝域$|\\frac{\\bar{X} - \\mu_0}{\\frac{\\sigma}{\\sqrt{n}}}| \\geq \\mu_{1 - \\frac{\\alpha}{2}}$, p_value = 2 * (1 - norm.cdf((threshold + 1) / 2))，I类风险 = $\\alpha$\n",
    "2. $H_0$: $\\mu \\leq \\mu_0$， $H_1$: $\\mu > \\mu_0$，拒绝域$\\frac{\\bar{X} - \\mu_0}{\\frac{\\sigma}{\\sqrt{n}}} \\geq \\mu_{1 - \\alpha}$，p_value = 1 - norm.cdf(threshold)，I类风险 $\\leq \\alpha$\n",
    "3. $H_0$: $\\mu \\geq \\mu_0$， $H_1$: $\\mu < \\mu_0$，拒绝域$\\frac{\\bar{X} - \\mu_0}{\\frac{\\sigma}{\\sqrt{n}}} \\leq \\mu_{\\alpha}$，p_value = norm.cdf(threshold)，I类风险 $\\leq \\alpha$"
   ]
  },
  {
   "cell_type": "markdown",
   "metadata": {},
   "source": [
    "### 均值检验（方差未知，单样本t检验）\n",
    "$\\frac{\\bar{X} - \\mu}{\\frac{S}{\\sqrt{n}}} \\sim t(n - 1)$\n",
    "1. $H_0$: $\\mu = \\mu_0$， $H_1$: $\\mu \\neq \\mu_0$，拒绝域$|\\frac{\\bar{X} - \\mu_0}{\\frac{S}{\\sqrt{n}}}| \\geq t_{1 - \\frac{\\alpha}{2}(n - 1)}$, p_value = 2*(1 - t.cdf((threshold + 1) / 2), n - 1)，I类风险 = $\\alpha$\n",
    "2. $H_0$: $\\mu \\leq \\mu_0$， $H_1$: $\\mu > \\mu_0$，拒绝域$\\frac{\\bar{X} - \\mu_0}{\\frac{S}{\\sqrt{n}}} \\geq t_{1 - \\alpha}(n - 1)$，p_value = 1 - t.cdf(threshold, n-1)，I类风险 $\\leq \\alpha$\n",
    "3. $H_0$: $\\mu \\geq \\mu_0$， $H_1$: $\\mu < \\mu_0$，拒绝域$\\frac{\\bar{X} - \\mu_0}{\\frac{S}{\\sqrt{n}}} \\leq t_{\\alpha}(n - 1)$，p_value = t.cdf(threshold, n - 1)，I类风险 $\\leq \\alpha$"
   ]
  },
  {
   "cell_type": "code",
   "execution_count": 19,
   "metadata": {
    "ExecuteTime": {
     "end_time": "2020-07-27T06:22:53.010127Z",
     "start_time": "2020-07-27T06:22:52.995497Z"
    }
   },
   "outputs": [
    {
     "name": "stdout",
     "output_type": "stream",
     "text": [
      "39.99183985842521 0.03615898698684999\n",
      "t statistic: -0.30\n",
      "p_value: 0.76\n",
      "therefore, do not reject H0. The mu is equal to mu_0(population mean)\n"
     ]
    }
   ],
   "source": [
    "# use premade function for 2-sided test\n",
    "from scipy.stats import norm, ttest_1samp\n",
    "np.random.seed(100)\n",
    "\n",
    "mu_0 = 40\n",
    "mu = 40\n",
    "sigma = 0.2\n",
    "alpha = 0.05\n",
    "X = norm.rvs(loc=mu, scale=sigma, size=50)\n",
    "print(X.mean(), X.var(ddof=1))\n",
    "result = ttest_1samp(X, mu_0)\n",
    "print('t statistic: {:.02f}'.format(result[0]))\n",
    "print('p_value: {:.2f}'.format(result[1]))\n",
    "print('therefore, do not reject H0. The mu is equal to mu_0(population mean)')"
   ]
  },
  {
   "cell_type": "markdown",
   "metadata": {},
   "source": [
    "### 方差检验（均值未知）\n",
    "$\\frac{(n-1)S^2}{\\sigma^2} \\sim \\chi^2(n-1)$\n",
    "1. $H_0$: $\\sigma^2 \\leq \\sigma_0^2$， $H_1$: $\\sigma^2 > \\sigma_0^2$，拒绝域$\\frac{(n-1)S^2}{\\sigma^2} \\geq \\chi_{1-\\alpha}^2(n-1)$，p_value = 1 - chi2.cdf(threshold, n - 1)，I类风险 $\\leq \\alpha$\n",
    "2. $H_0$: $\\sigma^2 \\geq \\sigma_0^2$， $H_1$: $\\sigma^2 < \\sigma_0^2$，拒绝域$\\frac{(n-1)S^2}{\\sigma^2} \\leq \\chi_{\\alpha}^2(n - 1)$，p_value = chi2.cdf(threshold)，I类风险 $\\leq \\alpha$\n",
    "3. $H_0$: $\\sigma_2 = \\sigma_0^2$， $H_1$: $\\sigma^2 \\neq \\sigma_0^2$，拒绝域$\\frac{(n-1)S^2}{\\sigma^2} \\geq \\chi_{1-\\alpha}^2(n-1) \\cup \\frac{(n-1)S^2}{\\sigma^2} \\leq \\chi_{\\alpha}^2(n - 1)$，p_value = (1 - chi2.cdf(threshold, n - 1)) + (chi2.cdf(threshold))，I类风险 = $\\alpha$"
   ]
  },
  {
   "cell_type": "code",
   "execution_count": null,
   "metadata": {},
   "outputs": [],
   "source": [
    "from scipy.stats import norm, chisquare\n",
    "np.random.seed(100)\n",
    "\n",
    "mu = 40\n",
    "sigma = 0.2\n",
    "sigma_0 = 0.25\n",
    "alpha = 0.05\n",
    "X = norm.rvs(loc=mu, scale=sigma, size=50)\n",
    "print(X.mean(), X.var(ddof=1))\n",
    "result = chisquare(X, mu_0)\n",
    "print('t statistic: {:.02f}'.format(result[0]))\n",
    "print('p_value: {:.2f}'.format(result[1]))\n",
    "print('therefore, do not reject H0. The mu is equal to mu_0(population mean)')"
   ]
  },
  {
   "cell_type": "markdown",
   "metadata": {},
   "source": [
    "### 方差检验（均值已知）\n",
    "1. $H_0$: $\\sigma^2 \\leq \\sigma_0^2$， $H_1$: $\\sigma^2 > \\sigma_0^2$，拒绝域$\\frac{\\sum_{i=1}^n(X_i - \\mu)^2}{\\sigma^2} \\geq \\chi_{1-\\alpha}^2(n-1)$，p_value = 1 - chi2.cdf(threshold, n - 1)，I类风险 $\\leq \\alpha$\n",
    "2. $H_0$: $\\sigma^2 \\geq \\sigma_0^2$， $H_1$: $\\sigma^2 < \\sigma_0^2$，拒绝域$\\frac{\\sum_{i=1}^n(X_i - \\mu)^2}{\\sigma^2} \\leq \\chi_{\\alpha}^2(n - 1)$，p_value = chi2.cdf(threshold)，I类风险 $\\leq \\alpha$\n",
    "3. $H_0$: $\\sigma_2 = \\sigma_0^2$， $H_1$: $\\sigma^2 \\neq \\sigma_0^2$，拒绝域$\\frac{\\sum_{i=1}^n(X_i - \\mu)^2}{\\sigma^2} \\geq \\chi_{1-\\alpha}^2(n-1) \\cup \\frac{\\sum_{i=1}^n(X_i - \\mu)^2}{\\sigma^2} \\leq \\chi_{\\alpha}^2(n - 1)$，p_value = (1 - chi2.cdf(threshold, n - 1)) + (chi2.cdf(threshold))，I类风险 = $\\alpha$"
   ]
  },
  {
   "cell_type": "markdown",
   "metadata": {},
   "source": [
    "## 双正态总体\n",
    "### 均值差检验\n",
    "#### 方差齐性\n",
    "$X \\sim \\mathcal{N}(\\mu_1, \\sigma^2)$, $Y \\sim \\mathcal{N}(\\mu_2, \\sigma^2)$, X, Y iid\n",
    "1. $H_0$: $\\mu_1 = \\mu_2$， $H_1$: $\\mu_1 \\neq \\mu_2$。拒绝域为\n",
    "$$\\frac{\\bar{X} - \\bar{Y}}{S_\\omega\\sqrt{\\frac{1}{n_1} + \\frac{1}{n_2}}} \\leq t_{\\frac{\\alpha}{2}}(n_1 + n_2 -2 ) \\cup \\frac{\\bar{X} - \\bar{Y}}{S_\\omega\\sqrt{\\frac{1}{n_1} + \\frac{1}{n_2}}} \\leq t_{1 - \\frac{\\alpha}{2}}(n_1 + n_2 -2 )$$ 其中$S_\\omega^2 = \\frac{(n - 1)S_1^2 + (m - 1)S_2^2}{m + n -2}$\n",
    "2. $H_0$: $\\mu_1 \\leq \\mu_2$， $H_1$: $\\mu_1 > \\mu_2$。拒绝域为\n",
    "$$\\frac{\\bar{X} - \\bar{Y}}{S_\\omega\\sqrt{\\frac{1}{n_1} + \\frac{1}{n_2}}} \\geq t_{1 - \\alpha}(n_1 + n_2 -2 ) $$\n",
    "p_value = 1 - t.cdf(threshold, n1 + n2 - 2)\n",
    "3. $H_0$: $\\mu_1 \\geq \\mu_2$， $H_1$: $\\mu_1 < \\mu_2$。拒绝域为\n",
    "$$\\frac{\\bar{X} - \\bar{Y}}{S_\\omega\\sqrt{\\frac{1}{n_1} + \\frac{1}{n_2}}} \\leq t_{\\alpha}(n_1 + n_2 -2 ) $$\n",
    "p_value = t.cdf(threshold, n1 + n2 - 2)\n",
    "4. $H_0$: $\\mu_1 - \\mu_2 \\geq \\delta$， $H_1$: $\\mu_1 - \\mu_2 < \\delta$。拒绝域为\n",
    "$$\\frac{\\bar{X} - \\bar{Y} - \\delta}{S_\\omega\\sqrt{\\frac{1}{n_1} + \\frac{1}{n_2}}} \\leq t_{\\alpha}(n_1 + n_2 -2 )$$\n",
    "p_value = t.cdf(threshold, n1 + n2 - 2)"
   ]
  },
  {
   "cell_type": "code",
   "execution_count": 4,
   "metadata": {
    "ExecuteTime": {
     "end_time": "2020-07-27T06:20:44.789988Z",
     "start_time": "2020-07-27T06:20:44.764066Z"
    }
   },
   "outputs": [
    {
     "name": "stdout",
     "output_type": "stream",
     "text": [
      "threshold is: -4.30\n",
      "threshold <= t_18: True\n",
      "p_value: 0.00\n",
      "p_value < alpha: True\n",
      "therefore, reject H0\n"
     ]
    }
   ],
   "source": [
    "# X and Y iid, sigma1 = sigma2\n",
    "from scipy.stats import t\n",
    "\n",
    "x_bar = 76.23\n",
    "y_bar = 79.43\n",
    "s1_2 = 3.325\n",
    "s2_2 = 2.225\n",
    "n1 = 10\n",
    "n2 = 10\n",
    "alpha = 0.05\n",
    "s_omega_2 = ((n1 - 1)* s1_2 + (n2 - 1)*s2_2) / (n1 + n2 - 2)\n",
    "threshold = (x_bar - y_bar) / (np.sqrt(s_omega_2) * np.sqrt(1/n1 + 1/n2))\n",
    "f_t = t(df=n1+n2 -2)\n",
    "t_18 = f_t.ppf(alpha)\n",
    "\n",
    "print('threshold is: {:.2f}'.format(threshold))\n",
    "print('threshold <= t_18: {}'.format(threshold <= t_18))\n",
    "\n",
    "p_value = t.cdf(threshold, n1 + n2 - 2)\n",
    "print('p_value: {:.2f}'.format(p_value))\n",
    "print('p_value < alpha: {}'.format(p_value < alpha))\n",
    "print('therefore, reject H0')"
   ]
  },
  {
   "cell_type": "code",
   "execution_count": 29,
   "metadata": {
    "ExecuteTime": {
     "end_time": "2020-07-27T06:50:13.319036Z",
     "start_time": "2020-07-27T06:50:13.302471Z"
    }
   },
   "outputs": [
    {
     "data": {
      "text/plain": [
       "Ttest_indResult(statistic=-5.224632872788141, pvalue=5.7241658501511684e-05)"
      ]
     },
     "execution_count": 29,
     "metadata": {},
     "output_type": "execute_result"
    }
   ],
   "source": [
    "from scipy.stats import ttest_ind, norm\n",
    "np.random.seed(10)\n",
    "\n",
    "x_bar = 76.23\n",
    "y_bar = 79.43\n",
    "s1_2 = 3.325\n",
    "s2_2 = 2.225\n",
    "n1 = 10\n",
    "n2 = 10\n",
    "alpha = 0.05\n",
    "f_norm = norm()\n",
    "X = norm.rvs(x_bar, np.sqrt(s1_2), size=n1)\n",
    "Y = norm.rvs(y_bar, np.sqrt(s2_2), size=n2)\n",
    "ttest_ind(X, Y, equal_var=True)"
   ]
  },
  {
   "cell_type": "code",
   "execution_count": 31,
   "metadata": {
    "ExecuteTime": {
     "end_time": "2020-07-27T06:53:43.729670Z",
     "start_time": "2020-07-27T06:53:43.718990Z"
    }
   },
   "outputs": [
    {
     "data": {
      "text/plain": [
       "Ttest_indResult(statistic=-4.295398753369759, pvalue=0.0004355175480216593)"
      ]
     },
     "execution_count": 31,
     "metadata": {},
     "output_type": "execute_result"
    }
   ],
   "source": [
    "from scipy.stats import ttest_ind_from_stats\n",
    "np.random.seed(10)\n",
    "\n",
    "x_bar = 76.23\n",
    "y_bar = 79.43\n",
    "s1_2 = 3.325\n",
    "s2_2 = 2.225\n",
    "n1 = 10\n",
    "n2 = 10\n",
    "alpha = 0.05\n",
    "\n",
    "ttest_ind_from_stats(mean1=x_bar, std1=np.sqrt(s1_2), nobs1=n1,\n",
    "                     mean2=y_bar, std2=np.sqrt(s2_2), nobs2=n2,\n",
    "                     equal_var=True)"
   ]
  },
  {
   "cell_type": "markdown",
   "metadata": {},
   "source": [
    "#### 方差不等\n",
    "$X \\sim \\mathcal{N}(\\mu_1, \\sigma_1), Y \\sim \\mathcal{N}(\\mu_2, \\sigma_2^2)$, X, Y iid\n",
    "\n",
    "$Z = X - Y \\sim \\mathcal{N}(\\mu_1 - \\mu_2, \\sigma_1^2 + \\sigma_2^2)$\n",
    "\n",
    "$H_0$: $\\mu_1 = \\mu_2 \\to \\mu = 0$， $H_1$: $\\mu_1 \\neq \\mu_2 \\to \\mu \\neq 0$\n",
    "\n",
    "此时的拒绝域为\n",
    "$$|t| = |\\frac{\\bar{Z}}{\\frac{S_z}{\\sqrt{n}}}| \\geq t_{1-\\frac{\\alpha}{2}}(n - 1)$$\n",
    "p_value = 2*(1 - t.cdf((threshold + 1) / 2), n - 1)"
   ]
  },
  {
   "cell_type": "code",
   "execution_count": 35,
   "metadata": {
    "ExecuteTime": {
     "end_time": "2020-07-27T07:00:42.121767Z",
     "start_time": "2020-07-27T07:00:42.102395Z"
    }
   },
   "outputs": [
    {
     "name": "stdout",
     "output_type": "stream",
     "text": [
      "threshold is: 1.47\n",
      "threshold >= t_9: False\n",
      "p_value: 0.25\n",
      "p_value < alpha: False\n",
      "therefore, do not reject H0\n"
     ]
    }
   ],
   "source": [
    "from scipy.stats import t\n",
    "\n",
    "\n",
    "X = np.array([0.2, 0.3, 0.4, 0.5, 0.6, 0.7, 0.8, 0.9, 1.0])\n",
    "Y = np.array([0.1, 0.21, 0.52, 0.32, 0.78, 0.59, 0.68, 0.77, 0.89])\n",
    "Z = X - Y\n",
    "alpha = 0.01\n",
    "f_t = t(Z.size - 1)\n",
    "\n",
    "threshold = np.abs(Z.mean() / (np.sqrt(Z.var(ddof=1) / Z.size)))\n",
    "t_9 = f_t.ppf(1 - alpha/2)\n",
    "print('threshold is: {:.2f}'.format(threshold))\n",
    "print('threshold >= t_9: {}'.format(threshold >= t_9))\n",
    "p_value = 2 * (1 - f_t.cdf((threshold + 1) / 2))\n",
    "print('p_value: {:.2f}'.format(p_value))\n",
    "print('p_value < alpha: {}'.format(p_value < alpha))\n",
    "print('therefore, do not reject H0')"
   ]
  },
  {
   "cell_type": "code",
   "execution_count": 33,
   "metadata": {
    "ExecuteTime": {
     "end_time": "2020-07-27T06:54:36.180859Z",
     "start_time": "2020-07-27T06:54:36.169907Z"
    }
   },
   "outputs": [
    {
     "data": {
      "text/plain": [
       "Ttest_indResult(statistic=0.46352358236214464, pvalue=0.6492323448586885)"
      ]
     },
     "execution_count": 33,
     "metadata": {},
     "output_type": "execute_result"
    }
   ],
   "source": [
    "from scipy.stats import ttest_ind, norm\n",
    "np.random.seed(10)\n",
    "\n",
    "X = np.array([0.2, 0.3, 0.4, 0.5, 0.6, 0.7, 0.8, 0.9, 1.0])\n",
    "Y = np.array([0.1, 0.21, 0.52, 0.32, 0.78, 0.59, 0.68, 0.77, 0.89])\n",
    "\n",
    "ttest_ind(X, Y, equal_var=False)"
   ]
  },
  {
   "cell_type": "markdown",
   "metadata": {},
   "source": [
    "### 方差检验\n"
   ]
  },
  {
   "cell_type": "markdown",
   "metadata": {},
   "source": [
    "1. $H_0$: $\\sigma_1^2 \\leq \\sigma_2^2$， $H_1$: $\\sigma_1^2 > \\sigma_2^2$，拒绝域为$\\frac{S_1^2}{S_2^2} \\geq F_{1-\\alpha}(n_1 - 1, n_2 - 1)$\n",
    "2. $H_0$: $\\sigma_1^2 \\geq \\sigma_2^2$， $H_1$: $\\sigma_1^2 < \\sigma_2^2$，拒绝域为$\\frac{S_1^2}{S_2^2} \\leq F_{\\alpha}(n_1 - 1, n_2 - 1)$\n",
    "3. $H_0$: $\\sigma_1^2 = \\sigma_2^2$， $H_1$: $\\sigma_1^2 \\neq \\sigma_2^2$，拒绝域为$\\frac{S_1^2}{S_2^2} \\geq F_{1-\\alpha}(n_1 - 1, n_2 - 1) \\cup \\frac{S_1^2}{S_2^2} \\leq F_{\\alpha}(n_1 - 1, n_2 - 1)$"
   ]
  },
  {
   "cell_type": "code",
   "execution_count": 6,
   "metadata": {
    "ExecuteTime": {
     "end_time": "2020-07-27T06:20:44.838982Z",
     "start_time": "2020-07-27T06:20:44.821970Z"
    }
   },
   "outputs": [
    {
     "name": "stdout",
     "output_type": "stream",
     "text": [
      "threshold is: 6.25\n",
      "threshold >= f_99: True\n",
      "p_value: 0.00\n",
      "p_value < alpha: True\n",
      "therefore, reject H0\n"
     ]
    }
   ],
   "source": [
    "from scipy.stats import f\n",
    "\n",
    "\n",
    "S_1_2 = 2500\n",
    "S_2_2 = 400\n",
    "n_1 = 10\n",
    "n_2 = 12\n",
    "alpha = 0.01\n",
    "f_f = f(n_1 -1, n_2 - 1)\n",
    "threshold = S_1_2/S_2_2\n",
    "f_99 = f_f.ppf(1- alpha)\n",
    "print('threshold is: {:.2f}'.format(threshold))\n",
    "print('threshold >= f_99: {}'.format(threshold >= f_99))\n",
    "\n",
    "p_value = 1 - f.cdf(threshold, n_1, n_2)\n",
    "print('p_value: {:.2f}'.format(p_value))\n",
    "print('p_value < alpha: {}'.format(p_value < alpha))\n",
    "print('therefore, reject H0')"
   ]
  },
  {
   "cell_type": "markdown",
   "metadata": {},
   "source": [
    "# 非参数检验\n",
    "## Pearson's $\\chi$ squared test\n",
    "### 检验一个分布是否服从某分布\n",
    "$H_0$: P{X = $a_i$} = $p_i$，$H_1$: P{X = $a_i$} $\\neq p_i$, $\\sum_{i=1}^{n}p_i = 1$\n",
    "\n",
    "$\\chi^2 = \\sum_{i=1}{k}\\frac{(n_i - np_i)^2}{np_i}$应偏小\n",
    "1. 一般的，当n$\\geq$50时，就认为$\\chi^2 \\sim \\chi^2(k-1)$\n",
    "2. $H_0$的拒绝域为 $\\sum_{i=1}{k}\\frac{(n_i - np_i)^2}{np_i} \\geq \\chi_{1-\\alpha}^2(k-1)$\n",
    "3. 对连续性总体做离散化处理"
   ]
  },
  {
   "cell_type": "code",
   "execution_count": 7,
   "metadata": {
    "ExecuteTime": {
     "end_time": "2020-07-27T06:20:44.855266Z",
     "start_time": "2020-07-27T06:20:44.842033Z"
    }
   },
   "outputs": [
    {
     "name": "stdout",
     "output_type": "stream",
     "text": [
      "chi_square statistic: 5.12\n",
      "p_value: 0.82\n",
      "therefore, do not reject H0\n"
     ]
    }
   ],
   "source": [
    "from scipy.stats import chisquare\n",
    "\n",
    "\n",
    "X = np.array([74, 92, 83, 79, 80, 73, 77, 75, 76, 91])\n",
    "X_exp = np.array([80]*10)\n",
    "\n",
    "result = chisquare(X, X_exp)\n",
    "\n",
    "print('chi_square statistic: {:.02f}'.format(result[0]))\n",
    "print('p_value: {:.2f}'.format(result[1]))\n",
    "print('therefore, do not reject H0')"
   ]
  },
  {
   "cell_type": "code",
   "execution_count": 8,
   "metadata": {
    "ExecuteTime": {
     "end_time": "2020-07-27T06:20:44.870067Z",
     "start_time": "2020-07-27T06:20:44.861398Z"
    }
   },
   "outputs": [
    {
     "name": "stdout",
     "output_type": "stream",
     "text": [
      "chi_square statistic: 0.62\n",
      "p_value: 0.89\n",
      "therefore, do not reject H0. X follows normal distribution\n"
     ]
    }
   ],
   "source": [
    "# should use skewness and kurtosis normality test as is shown below\n",
    "from scipy.stats import chisquare\n",
    "\n",
    "\n",
    "X = np.array([8, 20, 21, 11])\n",
    "X_exp = np.array([8.952, 21.048, 21.048, 8.952])\n",
    "result = chisquare(X, X_exp)\n",
    "alpha = 0.05\n",
    "\n",
    "print('chi_square statistic: {:.02f}'.format(result[0]))\n",
    "print('p_value: {:.2f}'.format(result[1]))\n",
    "print('therefore, do not reject H0. X follows normal distribution')"
   ]
  },
  {
   "cell_type": "code",
   "execution_count": 9,
   "metadata": {
    "ExecuteTime": {
     "end_time": "2020-07-27T06:20:44.887241Z",
     "start_time": "2020-07-27T06:20:44.874087Z"
    }
   },
   "outputs": [
    {
     "name": "stdout",
     "output_type": "stream",
     "text": [
      "p_value: 0.63\n",
      "therefore, do not reject H0. X follows normal distribution\n"
     ]
    }
   ],
   "source": [
    "from scipy.stats import normaltest\n",
    "from scipy.stats import norm\n",
    "\n",
    "nrv = norm(loc=80, scale=9.6**2)\n",
    "X = nrv.rvs(size=60, random_state=123)\n",
    "result = normaltest(X)\n",
    "print('p_value: {:.2f}'.format(result[1]))\n",
    "print('therefore, do not reject H0. X follows normal distribution')"
   ]
  },
  {
   "cell_type": "markdown",
   "metadata": {},
   "source": [
    "### 独立性的卡方检验\n",
    "例 高血压是否与食盐摄入过多有关"
   ]
  },
  {
   "cell_type": "code",
   "execution_count": 10,
   "metadata": {
    "ExecuteTime": {
     "end_time": "2020-07-27T06:20:44.905437Z",
     "start_time": "2020-07-27T06:20:44.889938Z"
    }
   },
   "outputs": [
    {
     "name": "stdout",
     "output_type": "stream",
     "text": [
      "p_value: 0.01\n",
      "therefore, reject H0. 高血压与食盐摄入过多不独立\n",
      "1\n",
      "[[ 33.86430678  22.13569322]\n",
      " [171.13569322 111.86430678]]\n"
     ]
    }
   ],
   "source": [
    "from scipy.stats import chi2_contingency\n",
    "\n",
    "X = np.matrix([[43, 13], [162, 121]])\n",
    "alpha = 0.02\n",
    "\n",
    "chi2, p_value, dof, ex = chi2_contingency(X, correction=False)\n",
    "print('p_value: {:.2f}'.format(p_value))\n",
    "print('therefore, reject H0. 高血压与食盐摄入过多不独立')\n",
    "print(dof)\n",
    "print(ex)"
   ]
  },
  {
   "cell_type": "markdown",
   "metadata": {},
   "source": [
    "# 方差分析\n",
    "\n",
    "$H_0$: $\\mu_1 = \\mu_2 = ... \\mu_i$，$H_1$: $\\mu_1, \\mu_2 ... \\mu_i$不完全相等\n",
    "\n",
    "$S_t = S_A + S_e$，其中$S_t=\\sum_{j=1}^{r}\\sum_{i=1}^{n_j}(X_{ij} - \\bar{X})^2$为总偏差平方和，$S_A=\\sum_{j=i}^{r}\\sum_{i=1}^{n_j}(\\bar{X}_j - \\bar{X})^2$为因子效应平方和，$S_e = \\sum_{i=1}^{r}\\sum_{i=1}^{n_j}(X_{ij} - \\bar{X}_j)^2$为误差平方和，由各组数据随机误差累计引起\n",
    "\n",
    "当$H_0$为真时，$\\frac{S_A}{\\sigma^2} \\sim \\chi^2(r-1)$, r为水平数\n",
    "\n",
    "总有\n",
    "$$\\frac{S_e}{\\sigma^2} \\sim \\chi^2(n-r)$$\n",
    "\n",
    "因此, 当$H_0$为真时，有\n",
    "$$\\frac{\\frac{S_A}{r-1}}{\\frac{S_e}{n-r}} \\sim F_{1-\\alpha}(r-1, n-r)$$\n",
    "其中$\\alpha$为置信度"
   ]
  },
  {
   "cell_type": "code",
   "execution_count": 11,
   "metadata": {
    "ExecuteTime": {
     "end_time": "2020-07-27T06:20:44.922842Z",
     "start_time": "2020-07-27T06:20:44.908025Z"
    }
   },
   "outputs": [
    {
     "name": "stdout",
     "output_type": "stream",
     "text": [
      "ANOVA statistic: 35.62\n",
      "p_value: 0.00\n",
      "therefore, reject H0. The mu do not all equal\n"
     ]
    }
   ],
   "source": [
    "from scipy.stats import f_oneway\n",
    "\n",
    "#X = np.matrix([[87, 90, 56, 92, 75], [85, 88, 62, 99, 72], [80, 87, np.nan, 95, 81], [np.nan, 94, np.nan, 91, np.nan]])\n",
    "X_1 = np.array([87, 85, 80])\n",
    "X_2 = np.array([90, 88, 87, 94])\n",
    "X_3 = np.array([56, 62])\n",
    "X_4 = np.array([92, 99, 95, 91])\n",
    "X_5 = np.array([75, 72, 81])\n",
    "result = f_oneway(X_1, X_2, X_3, X_4, X_5)\n",
    "\n",
    "print('ANOVA statistic: {:.02f}'.format(result[0]))\n",
    "print('p_value: {:.2f}'.format(result[1]))\n",
    "print('therefore, reject H0. The mu do not all equal')"
   ]
  },
  {
   "cell_type": "code",
   "execution_count": null,
   "metadata": {},
   "outputs": [],
   "source": []
  }
 ],
 "metadata": {
  "kernelspec": {
   "display_name": "Python 3",
   "language": "python",
   "name": "python3"
  },
  "language_info": {
   "codemirror_mode": {
    "name": "ipython",
    "version": 3
   },
   "file_extension": ".py",
   "mimetype": "text/x-python",
   "name": "python",
   "nbconvert_exporter": "python",
   "pygments_lexer": "ipython3",
   "version": "3.7.3"
  },
  "toc": {
   "base_numbering": 1,
   "nav_menu": {},
   "number_sections": true,
   "sideBar": true,
   "skip_h1_title": false,
   "title_cell": "Table of Contents",
   "title_sidebar": "Contents",
   "toc_cell": false,
   "toc_position": {},
   "toc_section_display": true,
   "toc_window_display": false
  },
  "varInspector": {
   "cols": {
    "lenName": 16,
    "lenType": 16,
    "lenVar": 40
   },
   "kernels_config": {
    "python": {
     "delete_cmd_postfix": "",
     "delete_cmd_prefix": "del ",
     "library": "var_list.py",
     "varRefreshCmd": "print(var_dic_list())"
    },
    "r": {
     "delete_cmd_postfix": ") ",
     "delete_cmd_prefix": "rm(",
     "library": "var_list.r",
     "varRefreshCmd": "cat(var_dic_list()) "
    }
   },
   "types_to_exclude": [
    "module",
    "function",
    "builtin_function_or_method",
    "instance",
    "_Feature"
   ],
   "window_display": false
  }
 },
 "nbformat": 4,
 "nbformat_minor": 4
}
