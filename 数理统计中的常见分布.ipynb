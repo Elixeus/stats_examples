{
 "cells": [
  {
   "cell_type": "markdown",
   "metadata": {},
   "source": [
    "## 几个概率统计中的常用分布\n",
    "### 卡方分布 $\\chi^2$ distribution"
   ]
  },
  {
   "cell_type": "markdown",
   "metadata": {},
   "source": [
    "设 $X_1$, $X_2$, ... $X_n$相互独立，且都服从标准正态分布 $X_i \\sim \\mathcal{N}(0, 1)$，则随机变量\n",
    "\n",
    "$$X_1^2 + X_2^2 + ... X_n^2$$\n",
    "为服从自由度为n的 $\\chi^2$分布，记为：\n",
    "\n",
    "$$\\sum_{i=1}^nX_i^2 \\sim \\chi^2 (n)$$"
   ]
  },
  {
   "cell_type": "markdown",
   "metadata": {},
   "source": [
    "数字特征：\n",
    "若 $Y \\sim \\chi^2(n)$，则有\n",
    "\n",
    "$$E(y) = n,  D(y) = 2n$$"
   ]
  },
  {
   "cell_type": "markdown",
   "metadata": {},
   "source": [
    "### t分布\n",
    "设 $X \\sim \\mathcal{N}(0, 1)$, $Y \\sim \\chi^2(n)$，且X与Y独立，则称随机变量\n",
    "\n",
    "$$T = \\frac{X}{\\sqrt(\\frac{Y}{n})}$$\n",
    "为服从自由度为n的t分布，记为\n",
    "\n",
    "$$T \\sim t(n) $$"
   ]
  },
  {
   "cell_type": "markdown",
   "metadata": {},
   "source": [
    "### F分布\n",
    "\n",
    "设 $X \\sim \\chi^2(m)$, $Y \\sim \\chi^2(n)$且X与Y相互独立，则称随机变量\n",
    "$$F = \\frac{\\frac{X}{n}}{\\frac{Y}{n}}$$\n",
    "为服从自由度为(m, n)的F分布，记为\n",
    "$$F \\sim F(m, n)$$"
   ]
  },
  {
   "cell_type": "markdown",
   "metadata": {},
   "source": [
    "性质：若$F \\sim F(m, n)$，则 $\\frac{1}{F} \\sim F(n, m)$"
   ]
  },
  {
   "cell_type": "markdown",
   "metadata": {},
   "source": [
    "## 抽样分布定理\n",
    "### 定理1\n",
    "设 $X_1$, $X_2$, ..., $X_n$是来自总体$\\mathcal{N}(\\mu, \\sigma^2)$的样本，有\n",
    "\n",
    "1. $$\\bar{X} \\sim \\mathcal{N}(\\mu, \\frac{\\sigma^2}{n})$$\n",
    "2. <center>$\\bar{X}$与$S^2$相互独立</center>\n",
    "3. $$\\frac{(n-1)S^2}{\\sigma^2} \\sim \\chi^2(n-1)$$\n",
    "\n",
    "其中$\\bar{X} = \\frac{1}{n}\\sum_{i=1}^nX_i$, $S^2 = \\frac{1}{n-1}\\sum_{i=1}^n(x_i - \\bar{x})^2$"
   ]
  },
  {
   "cell_type": "markdown",
   "metadata": {},
   "source": [
    "### 定理2\n",
    "设 $X_1$, $X_2$, ..., $X_n$是来自总体$\\mathcal{N}(\\mu, \\sigma^2)$的样本，有\n",
    "$$\\frac{\\bar{X} - \\mu}{\\frac{\\sigma}{\\sqrt{n}}} \\sim t(n-1)$$"
   ]
  },
  {
   "cell_type": "markdown",
   "metadata": {},
   "source": [
    "### 定理3\n",
    "设 $X_1$, $X_2$, ..., $X_n$是来自总体$\\mathcal{N}(\\mu, \\sigma_1^2)$的样本，$Y_1$, $Y_2$, ..., $Y_m$是来自总体$\\mathcal{N}(\\mu, \\sigma_2^2)$的样本，且两个样本相互独立，有\n",
    "$$\\frac{\\frac{S_1^2}{\\sigma_1^2}}{\\frac{S_2^2}{\\sigma_2^2}} \\sim F(n-1, m-1)$$\n",
    "其中$S_1^2$和$S_2^2$分别是两个样本的样本方差"
   ]
  },
  {
   "cell_type": "markdown",
   "metadata": {},
   "source": [
    "### 定理4\n",
    "设$X_1$, $X_2$... $X_n$是来自总体$\\mathcal{N}(\\mu_1, \\sigma^2)$的样本，$Y_1$, $Y_2$... $Y_m$是来自总体$\\mathcal{N}(\\mu_2, \\sigma^2)$的样本，且两样本独立，则有\n",
    "$$\\frac{(\\bar{X} - \\bar{Y}) - (\\mu_1 - \\mu_2)}{S_\\omega\\sqrt{\\frac{1}{n} + \\frac{1}{m}}} \\sim t(n + m - 2)$$\n",
    "其中，$S_\\omega^2 = \\frac{(n-1)S_1^2 + (m-1)S_2^2}{n+m-2}$, $S_\\omega = \\sqrt{S_\\omega^2}$"
   ]
  },
  {
   "cell_type": "code",
   "execution_count": null,
   "metadata": {},
   "outputs": [],
   "source": []
  }
 ],
 "metadata": {
  "kernelspec": {
   "display_name": "Python 3",
   "language": "python",
   "name": "python3"
  },
  "language_info": {
   "codemirror_mode": {
    "name": "ipython",
    "version": 3
   },
   "file_extension": ".py",
   "mimetype": "text/x-python",
   "name": "python",
   "nbconvert_exporter": "python",
   "pygments_lexer": "ipython3",
   "version": "3.7.3"
  },
  "toc": {
   "base_numbering": 1,
   "nav_menu": {},
   "number_sections": true,
   "sideBar": true,
   "skip_h1_title": false,
   "title_cell": "Table of Contents",
   "title_sidebar": "Contents",
   "toc_cell": false,
   "toc_position": {},
   "toc_section_display": true,
   "toc_window_display": false
  },
  "varInspector": {
   "cols": {
    "lenName": 16,
    "lenType": 16,
    "lenVar": 40
   },
   "kernels_config": {
    "python": {
     "delete_cmd_postfix": "",
     "delete_cmd_prefix": "del ",
     "library": "var_list.py",
     "varRefreshCmd": "print(var_dic_list())"
    },
    "r": {
     "delete_cmd_postfix": ") ",
     "delete_cmd_prefix": "rm(",
     "library": "var_list.r",
     "varRefreshCmd": "cat(var_dic_list()) "
    }
   },
   "types_to_exclude": [
    "module",
    "function",
    "builtin_function_or_method",
    "instance",
    "_Feature"
   ],
   "window_display": false
  }
 },
 "nbformat": 4,
 "nbformat_minor": 4
}
